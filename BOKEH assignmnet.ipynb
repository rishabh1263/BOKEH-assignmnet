{
 "cells": [
  {
   "cell_type": "markdown",
   "id": "cfadee50",
   "metadata": {},
   "source": [
    "##Q1:\n",
    "Example:\n",
    "# First, we will import the required modules.\n",
    "from bokeh.plotting import figure as fig.\n",
    "from bokeh.plotting import output_notebook as ON.\n",
    "from bokeh.plotting import show.\n",
    "# output to the notebook.\n",
    "ON()\n",
    "# creating figure.\n",
    "plot1 = fig(plot_width = 500, plot_height = 500, title = \"Scatter Markers\")\n",
    "More items..."
   ]
  },
  {
   "cell_type": "markdown",
   "id": "94ac4ffc",
   "metadata": {},
   "source": [
    "##Q2:\n",
    "Plotting with glyphs\n",
    "Usually, a plot consists of geometric shapes either in the form of a line, circle, etc. So, Glyphs are nothing but visual shapes that are drawn to represent the data such as circles, squares, lines, rectangles, etc.  \n",
    "\n",
    "Creating a basic line chart:\n",
    "The line chart displays the visualization of x and y-axis points movements in the form of a line. To draw a line glyph to the figure, we use the line() method of the figure object.\n",
    "\n",
    "Syntax:\n",
    "\n",
    " my_plot.line(a, b, line_width)  \n",
    "Code:                  \n",
    "\n",
    "Python\n",
    "# import the libraries\n",
    "from bokeh.plotting import figure, show, output_file\n",
    " \n",
    "# prepare some data\n",
    "a = [1, 2, 3, 4, 5, 6, 7, 8, 9, 10]\n",
    "b = [2, 4, 6, 8, 10, 12, 14, 16, 18, 20]\n",
    " \n",
    "# create a plot using figure\n",
    "my_plot = figure(title=\"simple line chart\", x_axis_label=\"X-Axis\",\n",
    "                 y_axis_label=\"Y-Axis\")\n",
    " \n",
    "# adding line graph\n",
    "my_plot.line(a, b, line_width=3)\n",
    " \n",
    "# display output in file\n",
    "output_file(\"line.html\")\n",
    " \n",
    "# show the result\n",
    "show(my_plot)\n"
   ]
  },
  {
   "cell_type": "markdown",
   "id": "cea3f1c5",
   "metadata": {},
   "source": [
    "Bokeh comes with five built-in themes to quickly change the appearance of one or more plots: caliber, dark_minimal, light_minimal, night_sky, and contrast.\n",
    "    \n",
    " from bokeh.io import curdoc\n",
    "from bokeh.plotting import figure, output_file, show\n",
    "\n",
    "x = [1, 2, 3, 4, 5]\n",
    "y = [6, 7, 6, 4, 5]\n",
    "\n",
    "output_file(\"dark_minimal.html\")\n",
    "\n",
    "curdoc().theme = 'dark_minimal'\n",
    "\n",
    "p = figure(title='dark_minimal', width=300, height=300)\n",
    "p.line(x, y)\n",
    "\n",
    "show(p)   "
   ]
  },
  {
   "cell_type": "code",
   "execution_count": 1,
   "id": "e6578c2c",
   "metadata": {},
   "outputs": [],
   "source": [
    "##Q4:\n",
    "\n",
    "from bokeh.io import output_file, show\n",
    "from bokeh.layouts import column\n",
    "from bokeh.plotting import figure\n",
    "\n",
    "output_file(\"layout.html\")\n",
    "\n",
    "x = list(range(11))\n",
    "y0 = x\n",
    "y1 = [10 - i for i in x]\n",
    "y2 = [abs(i - 5) for i in x]\n",
    "\n",
    "# create three plots\n",
    "s1 = figure(width=250, height=250, background_fill_color=\"#fafafa\")\n",
    "s1.circle(x, y0, size=12, color=\"#53777a\", alpha=0.8)\n",
    "\n",
    "s2 = figure(width=250, height=250, background_fill_color=\"#fafafa\")\n",
    "s2.triangle(x, y1, size=12, color=\"#c02942\", alpha=0.8)\n",
    "\n",
    "s3 = figure(width=250, height=250, background_fill_color=\"#fafafa\")\n",
    "s3.square(x, y2, size=12, color=\"#d95b43\", alpha=0.8)\n",
    "\n",
    "# put the results in a column and show\n",
    "show(column(s1, s2, s3))"
   ]
  },
  {
   "cell_type": "markdown",
   "id": "d835efcb",
   "metadata": {},
   "source": [
    "##Q5:\n",
    "\n",
    "For this project, we are using PyCharm IDE. PyCharm is one of the most popular IDE used for the python Scripting language.\n",
    "\n",
    "Open PyCharm and create a new project and save it as BokehProject.\n",
    "Go to the terminal and install Django using the command:\n",
    "pip install django\n",
    "In the same way, we will install bokeh in our project as:\n",
    "pip install bokeh\n",
    "Step 2: Create the Django project  \n",
    "Create a Django project using the following command:\n",
    "django-admin startproject BokehDjango\n",
    "Change the project folder using the below command:\n",
    "cd BokehDjango\n",
    "Run manage.py to initially migrate data changes to our project by using migrate as below\n",
    "python manage.py migrate\n",
    "Create a superuser using the following command to create a superuser account\n",
    "python manage.py createsuperuser  \n",
    "Add the name, email, and password.\n",
    "At this stage, the directory structure is as shown below:\n",
    "\n",
    "\n",
    "\n",
    "Now let us run the command below command to check if Django is installed successfully.\n",
    "python manage.py runserver"
   ]
  },
  {
   "cell_type": "code",
   "execution_count": null,
   "id": "0047ed40",
   "metadata": {},
   "outputs": [],
   "source": []
  }
 ],
 "metadata": {
  "kernelspec": {
   "display_name": "Python 3 (ipykernel)",
   "language": "python",
   "name": "python3"
  },
  "language_info": {
   "codemirror_mode": {
    "name": "ipython",
    "version": 3
   },
   "file_extension": ".py",
   "mimetype": "text/x-python",
   "name": "python",
   "nbconvert_exporter": "python",
   "pygments_lexer": "ipython3",
   "version": "3.9.13"
  }
 },
 "nbformat": 4,
 "nbformat_minor": 5
}
